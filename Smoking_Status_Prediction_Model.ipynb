{
  "nbformat": 4,
  "nbformat_minor": 0,
  "metadata": {
    "colab": {
      "name": "Smoking_Status_Prediction_Model.ipynb",
      "provenance": [],
      "collapsed_sections": [],
      "include_colab_link": true
    },
    "kernelspec": {
      "name": "python3",
      "display_name": "Python 3"
    },
    "language_info": {
      "name": "python"
    }
  },
  "cells": [
    {
      "cell_type": "markdown",
      "metadata": {
        "id": "view-in-github",
        "colab_type": "text"
      },
      "source": [
        "<a href=\"https://colab.research.google.com/github/NiroginiJanstin/ML_Assignment2_IT18412994_IT18218336_IT18216592/blob/master/Smoking_Status_Prediction_Model.ipynb\" target=\"_parent\"><img src=\"https://colab.research.google.com/assets/colab-badge.svg\" alt=\"Open In Colab\"/></a>"
      ]
    },
    {
      "cell_type": "code",
      "execution_count": 3,
      "metadata": {
        "id": "fi1fI9tpW18I"
      },
      "outputs": [],
      "source": [
        "import numpy\n",
        "import pandas as pd\n",
        "\n",
        "import matplotlib.pyplot as plt\n",
        "import seaborn as sbrn\n",
        "import plotly.express as ploex\n"
      ]
    },
    {
      "cell_type": "markdown",
      "source": [
        "# ***Load Dataset***"
      ],
      "metadata": {
        "id": "nLp5M-dyXKHx"
      }
    },
    {
      "cell_type": "code",
      "source": [
        "# Load the Drive helper and mount\n",
        "from google.colab import drive\n",
        "drive.mount('/content/drive')"
      ],
      "metadata": {
        "id": "AkKSuSBWXHXC",
        "colab": {
          "base_uri": "https://localhost:8080/"
        },
        "outputId": "58534658-19d1-46cc-966a-334e00fe00f2"
      },
      "execution_count": 4,
      "outputs": [
        {
          "output_type": "stream",
          "name": "stdout",
          "text": [
            "Drive already mounted at /content/drive; to attempt to forcibly remount, call drive.mount(\"/content/drive\", force_remount=True).\n"
          ]
        }
      ]
    },
    {
      "cell_type": "code",
      "source": [
        "data = pd.read_csv('/content/drive/MyDrive/smoking.csv')"
      ],
      "metadata": {
        "id": "Z0UPxIACre1A"
      },
      "execution_count": 5,
      "outputs": []
    },
    {
      "cell_type": "code",
      "source": [
        "print(data)"
      ],
      "metadata": {
        "colab": {
          "base_uri": "https://localhost:8080/"
        },
        "id": "lDfGjN9Ur3vp",
        "outputId": "80b97b0c-d80e-4f31-a613-1820cb6b0ee6"
      },
      "execution_count": 6,
      "outputs": [
        {
          "output_type": "stream",
          "name": "stdout",
          "text": [
            "          ID gender  age  height(cm)  weight(kg)  waist(cm)  eyesight(left)  \\\n",
            "0          0      F   40         155          60       81.3             1.2   \n",
            "1          1      F   40         160          60       81.0             0.8   \n",
            "2          2      M   55         170          60       80.0             0.8   \n",
            "3          3      M   40         165          70       88.0             1.5   \n",
            "4          4      F   40         155          60       86.0             1.0   \n",
            "...      ...    ...  ...         ...         ...        ...             ...   \n",
            "55687  55676      F   40         170          65       75.0             0.9   \n",
            "55688  55681      F   45         160          50       70.0             1.2   \n",
            "55689  55683      F   55         160          50       68.5             1.0   \n",
            "55690  55684      M   60         165          60       78.0             0.8   \n",
            "55691  55691      M   55         160          65       85.0             0.9   \n",
            "\n",
            "       eyesight(right)  hearing(left)  hearing(right)  ...  hemoglobin  \\\n",
            "0                  1.0            1.0             1.0  ...        12.9   \n",
            "1                  0.6            1.0             1.0  ...        12.7   \n",
            "2                  0.8            1.0             1.0  ...        15.8   \n",
            "3                  1.5            1.0             1.0  ...        14.7   \n",
            "4                  1.0            1.0             1.0  ...        12.5   \n",
            "...                ...            ...             ...  ...         ...   \n",
            "55687              0.9            1.0             1.0  ...        12.3   \n",
            "55688              1.2            1.0             1.0  ...        14.0   \n",
            "55689              1.2            1.0             1.0  ...        12.4   \n",
            "55690              1.0            1.0             1.0  ...        14.4   \n",
            "55691              0.7            1.0             1.0  ...        15.0   \n",
            "\n",
            "       Urine protein  serum creatinine   AST   ALT   Gtp  oral  dental caries  \\\n",
            "0                1.0               0.7  18.0  19.0  27.0     Y              0   \n",
            "1                1.0               0.6  22.0  19.0  18.0     Y              0   \n",
            "2                1.0               1.0  21.0  16.0  22.0     Y              0   \n",
            "3                1.0               1.0  19.0  26.0  18.0     Y              0   \n",
            "4                1.0               0.6  16.0  14.0  22.0     Y              0   \n",
            "...              ...               ...   ...   ...   ...   ...            ...   \n",
            "55687            1.0               0.6  14.0   7.0  10.0     Y              1   \n",
            "55688            1.0               0.9  20.0  12.0  14.0     Y              0   \n",
            "55689            1.0               0.5  17.0  11.0  12.0     Y              0   \n",
            "55690            1.0               0.7  20.0  19.0  18.0     Y              0   \n",
            "55691            1.0               0.8  26.0  29.0  41.0     Y              0   \n",
            "\n",
            "       tartar  smoking  \n",
            "0           Y        0  \n",
            "1           Y        0  \n",
            "2           N        1  \n",
            "3           Y        0  \n",
            "4           N        0  \n",
            "...       ...      ...  \n",
            "55687       Y        0  \n",
            "55688       Y        0  \n",
            "55689       N        0  \n",
            "55690       N        0  \n",
            "55691       Y        1  \n",
            "\n",
            "[55692 rows x 27 columns]\n"
          ]
        }
      ]
    },
    {
      "cell_type": "code",
      "source": [
        "data.describe()"
      ],
      "metadata": {
        "colab": {
          "base_uri": "https://localhost:8080/",
          "height": 411
        },
        "id": "akc7c06JiFa_",
        "outputId": "1a190289-697b-469c-da6d-f258d009e4ed"
      },
      "execution_count": 7,
      "outputs": [
        {
          "output_type": "execute_result",
          "data": {
            "text/plain": [
              "                 ID           age    height(cm)    weight(kg)     waist(cm)  \\\n",
              "count  55692.000000  55692.000000  55692.000000  55692.000000  55692.000000   \n",
              "mean   27845.500000     44.182917    164.649321     65.864936     82.046418   \n",
              "std    16077.039933     12.071418      9.194597     12.820306      9.274223   \n",
              "min        0.000000     20.000000    130.000000     30.000000     51.000000   \n",
              "25%    13922.750000     40.000000    160.000000     55.000000     76.000000   \n",
              "50%    27845.500000     40.000000    165.000000     65.000000     82.000000   \n",
              "75%    41768.250000     55.000000    170.000000     75.000000     88.000000   \n",
              "max    55691.000000     85.000000    190.000000    135.000000    129.000000   \n",
              "\n",
              "       eyesight(left)  eyesight(right)  hearing(left)  hearing(right)  \\\n",
              "count    55692.000000     55692.000000   55692.000000    55692.000000   \n",
              "mean         1.012623         1.007443       1.025587        1.026144   \n",
              "std          0.486873         0.485964       0.157902        0.159564   \n",
              "min          0.100000         0.100000       1.000000        1.000000   \n",
              "25%          0.800000         0.800000       1.000000        1.000000   \n",
              "50%          1.000000         1.000000       1.000000        1.000000   \n",
              "75%          1.200000         1.200000       1.000000        1.000000   \n",
              "max          9.900000         9.900000       2.000000        2.000000   \n",
              "\n",
              "           systolic  ...           HDL           LDL    hemoglobin  \\\n",
              "count  55692.000000  ...  55692.000000  55692.000000  55692.000000   \n",
              "mean     121.494218  ...     57.290347    114.964501     14.622592   \n",
              "std       13.675989  ...     14.738963     40.926476      1.564498   \n",
              "min       71.000000  ...      4.000000      1.000000      4.900000   \n",
              "25%      112.000000  ...     47.000000     92.000000     13.600000   \n",
              "50%      120.000000  ...     55.000000    113.000000     14.800000   \n",
              "75%      130.000000  ...     66.000000    136.000000     15.800000   \n",
              "max      240.000000  ...    618.000000   1860.000000     21.100000   \n",
              "\n",
              "       Urine protein  serum creatinine           AST           ALT  \\\n",
              "count   55692.000000      55692.000000  55692.000000  55692.000000   \n",
              "mean        1.087212          0.885738     26.182935     27.036037   \n",
              "std         0.404882          0.221524     19.355460     30.947853   \n",
              "min         1.000000          0.100000      6.000000      1.000000   \n",
              "25%         1.000000          0.800000     19.000000     15.000000   \n",
              "50%         1.000000          0.900000     23.000000     21.000000   \n",
              "75%         1.000000          1.000000     28.000000     31.000000   \n",
              "max         6.000000         11.600000   1311.000000   2914.000000   \n",
              "\n",
              "                Gtp  dental caries       smoking  \n",
              "count  55692.000000   55692.000000  55692.000000  \n",
              "mean      39.952201       0.213334      0.367288  \n",
              "std       50.290539       0.409665      0.482070  \n",
              "min        1.000000       0.000000      0.000000  \n",
              "25%       17.000000       0.000000      0.000000  \n",
              "50%       25.000000       0.000000      0.000000  \n",
              "75%       43.000000       0.000000      1.000000  \n",
              "max      999.000000       1.000000      1.000000  \n",
              "\n",
              "[8 rows x 24 columns]"
            ],
            "text/html": [
              "\n",
              "  <div id=\"df-f1342a5b-ee6e-420a-9388-136ee903b724\">\n",
              "    <div class=\"colab-df-container\">\n",
              "      <div>\n",
              "<style scoped>\n",
              "    .dataframe tbody tr th:only-of-type {\n",
              "        vertical-align: middle;\n",
              "    }\n",
              "\n",
              "    .dataframe tbody tr th {\n",
              "        vertical-align: top;\n",
              "    }\n",
              "\n",
              "    .dataframe thead th {\n",
              "        text-align: right;\n",
              "    }\n",
              "</style>\n",
              "<table border=\"1\" class=\"dataframe\">\n",
              "  <thead>\n",
              "    <tr style=\"text-align: right;\">\n",
              "      <th></th>\n",
              "      <th>ID</th>\n",
              "      <th>age</th>\n",
              "      <th>height(cm)</th>\n",
              "      <th>weight(kg)</th>\n",
              "      <th>waist(cm)</th>\n",
              "      <th>eyesight(left)</th>\n",
              "      <th>eyesight(right)</th>\n",
              "      <th>hearing(left)</th>\n",
              "      <th>hearing(right)</th>\n",
              "      <th>systolic</th>\n",
              "      <th>...</th>\n",
              "      <th>HDL</th>\n",
              "      <th>LDL</th>\n",
              "      <th>hemoglobin</th>\n",
              "      <th>Urine protein</th>\n",
              "      <th>serum creatinine</th>\n",
              "      <th>AST</th>\n",
              "      <th>ALT</th>\n",
              "      <th>Gtp</th>\n",
              "      <th>dental caries</th>\n",
              "      <th>smoking</th>\n",
              "    </tr>\n",
              "  </thead>\n",
              "  <tbody>\n",
              "    <tr>\n",
              "      <th>count</th>\n",
              "      <td>55692.000000</td>\n",
              "      <td>55692.000000</td>\n",
              "      <td>55692.000000</td>\n",
              "      <td>55692.000000</td>\n",
              "      <td>55692.000000</td>\n",
              "      <td>55692.000000</td>\n",
              "      <td>55692.000000</td>\n",
              "      <td>55692.000000</td>\n",
              "      <td>55692.000000</td>\n",
              "      <td>55692.000000</td>\n",
              "      <td>...</td>\n",
              "      <td>55692.000000</td>\n",
              "      <td>55692.000000</td>\n",
              "      <td>55692.000000</td>\n",
              "      <td>55692.000000</td>\n",
              "      <td>55692.000000</td>\n",
              "      <td>55692.000000</td>\n",
              "      <td>55692.000000</td>\n",
              "      <td>55692.000000</td>\n",
              "      <td>55692.000000</td>\n",
              "      <td>55692.000000</td>\n",
              "    </tr>\n",
              "    <tr>\n",
              "      <th>mean</th>\n",
              "      <td>27845.500000</td>\n",
              "      <td>44.182917</td>\n",
              "      <td>164.649321</td>\n",
              "      <td>65.864936</td>\n",
              "      <td>82.046418</td>\n",
              "      <td>1.012623</td>\n",
              "      <td>1.007443</td>\n",
              "      <td>1.025587</td>\n",
              "      <td>1.026144</td>\n",
              "      <td>121.494218</td>\n",
              "      <td>...</td>\n",
              "      <td>57.290347</td>\n",
              "      <td>114.964501</td>\n",
              "      <td>14.622592</td>\n",
              "      <td>1.087212</td>\n",
              "      <td>0.885738</td>\n",
              "      <td>26.182935</td>\n",
              "      <td>27.036037</td>\n",
              "      <td>39.952201</td>\n",
              "      <td>0.213334</td>\n",
              "      <td>0.367288</td>\n",
              "    </tr>\n",
              "    <tr>\n",
              "      <th>std</th>\n",
              "      <td>16077.039933</td>\n",
              "      <td>12.071418</td>\n",
              "      <td>9.194597</td>\n",
              "      <td>12.820306</td>\n",
              "      <td>9.274223</td>\n",
              "      <td>0.486873</td>\n",
              "      <td>0.485964</td>\n",
              "      <td>0.157902</td>\n",
              "      <td>0.159564</td>\n",
              "      <td>13.675989</td>\n",
              "      <td>...</td>\n",
              "      <td>14.738963</td>\n",
              "      <td>40.926476</td>\n",
              "      <td>1.564498</td>\n",
              "      <td>0.404882</td>\n",
              "      <td>0.221524</td>\n",
              "      <td>19.355460</td>\n",
              "      <td>30.947853</td>\n",
              "      <td>50.290539</td>\n",
              "      <td>0.409665</td>\n",
              "      <td>0.482070</td>\n",
              "    </tr>\n",
              "    <tr>\n",
              "      <th>min</th>\n",
              "      <td>0.000000</td>\n",
              "      <td>20.000000</td>\n",
              "      <td>130.000000</td>\n",
              "      <td>30.000000</td>\n",
              "      <td>51.000000</td>\n",
              "      <td>0.100000</td>\n",
              "      <td>0.100000</td>\n",
              "      <td>1.000000</td>\n",
              "      <td>1.000000</td>\n",
              "      <td>71.000000</td>\n",
              "      <td>...</td>\n",
              "      <td>4.000000</td>\n",
              "      <td>1.000000</td>\n",
              "      <td>4.900000</td>\n",
              "      <td>1.000000</td>\n",
              "      <td>0.100000</td>\n",
              "      <td>6.000000</td>\n",
              "      <td>1.000000</td>\n",
              "      <td>1.000000</td>\n",
              "      <td>0.000000</td>\n",
              "      <td>0.000000</td>\n",
              "    </tr>\n",
              "    <tr>\n",
              "      <th>25%</th>\n",
              "      <td>13922.750000</td>\n",
              "      <td>40.000000</td>\n",
              "      <td>160.000000</td>\n",
              "      <td>55.000000</td>\n",
              "      <td>76.000000</td>\n",
              "      <td>0.800000</td>\n",
              "      <td>0.800000</td>\n",
              "      <td>1.000000</td>\n",
              "      <td>1.000000</td>\n",
              "      <td>112.000000</td>\n",
              "      <td>...</td>\n",
              "      <td>47.000000</td>\n",
              "      <td>92.000000</td>\n",
              "      <td>13.600000</td>\n",
              "      <td>1.000000</td>\n",
              "      <td>0.800000</td>\n",
              "      <td>19.000000</td>\n",
              "      <td>15.000000</td>\n",
              "      <td>17.000000</td>\n",
              "      <td>0.000000</td>\n",
              "      <td>0.000000</td>\n",
              "    </tr>\n",
              "    <tr>\n",
              "      <th>50%</th>\n",
              "      <td>27845.500000</td>\n",
              "      <td>40.000000</td>\n",
              "      <td>165.000000</td>\n",
              "      <td>65.000000</td>\n",
              "      <td>82.000000</td>\n",
              "      <td>1.000000</td>\n",
              "      <td>1.000000</td>\n",
              "      <td>1.000000</td>\n",
              "      <td>1.000000</td>\n",
              "      <td>120.000000</td>\n",
              "      <td>...</td>\n",
              "      <td>55.000000</td>\n",
              "      <td>113.000000</td>\n",
              "      <td>14.800000</td>\n",
              "      <td>1.000000</td>\n",
              "      <td>0.900000</td>\n",
              "      <td>23.000000</td>\n",
              "      <td>21.000000</td>\n",
              "      <td>25.000000</td>\n",
              "      <td>0.000000</td>\n",
              "      <td>0.000000</td>\n",
              "    </tr>\n",
              "    <tr>\n",
              "      <th>75%</th>\n",
              "      <td>41768.250000</td>\n",
              "      <td>55.000000</td>\n",
              "      <td>170.000000</td>\n",
              "      <td>75.000000</td>\n",
              "      <td>88.000000</td>\n",
              "      <td>1.200000</td>\n",
              "      <td>1.200000</td>\n",
              "      <td>1.000000</td>\n",
              "      <td>1.000000</td>\n",
              "      <td>130.000000</td>\n",
              "      <td>...</td>\n",
              "      <td>66.000000</td>\n",
              "      <td>136.000000</td>\n",
              "      <td>15.800000</td>\n",
              "      <td>1.000000</td>\n",
              "      <td>1.000000</td>\n",
              "      <td>28.000000</td>\n",
              "      <td>31.000000</td>\n",
              "      <td>43.000000</td>\n",
              "      <td>0.000000</td>\n",
              "      <td>1.000000</td>\n",
              "    </tr>\n",
              "    <tr>\n",
              "      <th>max</th>\n",
              "      <td>55691.000000</td>\n",
              "      <td>85.000000</td>\n",
              "      <td>190.000000</td>\n",
              "      <td>135.000000</td>\n",
              "      <td>129.000000</td>\n",
              "      <td>9.900000</td>\n",
              "      <td>9.900000</td>\n",
              "      <td>2.000000</td>\n",
              "      <td>2.000000</td>\n",
              "      <td>240.000000</td>\n",
              "      <td>...</td>\n",
              "      <td>618.000000</td>\n",
              "      <td>1860.000000</td>\n",
              "      <td>21.100000</td>\n",
              "      <td>6.000000</td>\n",
              "      <td>11.600000</td>\n",
              "      <td>1311.000000</td>\n",
              "      <td>2914.000000</td>\n",
              "      <td>999.000000</td>\n",
              "      <td>1.000000</td>\n",
              "      <td>1.000000</td>\n",
              "    </tr>\n",
              "  </tbody>\n",
              "</table>\n",
              "<p>8 rows × 24 columns</p>\n",
              "</div>\n",
              "      <button class=\"colab-df-convert\" onclick=\"convertToInteractive('df-f1342a5b-ee6e-420a-9388-136ee903b724')\"\n",
              "              title=\"Convert this dataframe to an interactive table.\"\n",
              "              style=\"display:none;\">\n",
              "        \n",
              "  <svg xmlns=\"http://www.w3.org/2000/svg\" height=\"24px\"viewBox=\"0 0 24 24\"\n",
              "       width=\"24px\">\n",
              "    <path d=\"M0 0h24v24H0V0z\" fill=\"none\"/>\n",
              "    <path d=\"M18.56 5.44l.94 2.06.94-2.06 2.06-.94-2.06-.94-.94-2.06-.94 2.06-2.06.94zm-11 1L8.5 8.5l.94-2.06 2.06-.94-2.06-.94L8.5 2.5l-.94 2.06-2.06.94zm10 10l.94 2.06.94-2.06 2.06-.94-2.06-.94-.94-2.06-.94 2.06-2.06.94z\"/><path d=\"M17.41 7.96l-1.37-1.37c-.4-.4-.92-.59-1.43-.59-.52 0-1.04.2-1.43.59L10.3 9.45l-7.72 7.72c-.78.78-.78 2.05 0 2.83L4 21.41c.39.39.9.59 1.41.59.51 0 1.02-.2 1.41-.59l7.78-7.78 2.81-2.81c.8-.78.8-2.07 0-2.86zM5.41 20L4 18.59l7.72-7.72 1.47 1.35L5.41 20z\"/>\n",
              "  </svg>\n",
              "      </button>\n",
              "      \n",
              "  <style>\n",
              "    .colab-df-container {\n",
              "      display:flex;\n",
              "      flex-wrap:wrap;\n",
              "      gap: 12px;\n",
              "    }\n",
              "\n",
              "    .colab-df-convert {\n",
              "      background-color: #E8F0FE;\n",
              "      border: none;\n",
              "      border-radius: 50%;\n",
              "      cursor: pointer;\n",
              "      display: none;\n",
              "      fill: #1967D2;\n",
              "      height: 32px;\n",
              "      padding: 0 0 0 0;\n",
              "      width: 32px;\n",
              "    }\n",
              "\n",
              "    .colab-df-convert:hover {\n",
              "      background-color: #E2EBFA;\n",
              "      box-shadow: 0px 1px 2px rgba(60, 64, 67, 0.3), 0px 1px 3px 1px rgba(60, 64, 67, 0.15);\n",
              "      fill: #174EA6;\n",
              "    }\n",
              "\n",
              "    [theme=dark] .colab-df-convert {\n",
              "      background-color: #3B4455;\n",
              "      fill: #D2E3FC;\n",
              "    }\n",
              "\n",
              "    [theme=dark] .colab-df-convert:hover {\n",
              "      background-color: #434B5C;\n",
              "      box-shadow: 0px 1px 3px 1px rgba(0, 0, 0, 0.15);\n",
              "      filter: drop-shadow(0px 1px 2px rgba(0, 0, 0, 0.3));\n",
              "      fill: #FFFFFF;\n",
              "    }\n",
              "  </style>\n",
              "\n",
              "      <script>\n",
              "        const buttonEl =\n",
              "          document.querySelector('#df-f1342a5b-ee6e-420a-9388-136ee903b724 button.colab-df-convert');\n",
              "        buttonEl.style.display =\n",
              "          google.colab.kernel.accessAllowed ? 'block' : 'none';\n",
              "\n",
              "        async function convertToInteractive(key) {\n",
              "          const element = document.querySelector('#df-f1342a5b-ee6e-420a-9388-136ee903b724');\n",
              "          const dataTable =\n",
              "            await google.colab.kernel.invokeFunction('convertToInteractive',\n",
              "                                                     [key], {});\n",
              "          if (!dataTable) return;\n",
              "\n",
              "          const docLinkHtml = 'Like what you see? Visit the ' +\n",
              "            '<a target=\"_blank\" href=https://colab.research.google.com/notebooks/data_table.ipynb>data table notebook</a>'\n",
              "            + ' to learn more about interactive tables.';\n",
              "          element.innerHTML = '';\n",
              "          dataTable['output_type'] = 'display_data';\n",
              "          await google.colab.output.renderOutput(dataTable, element);\n",
              "          const docLink = document.createElement('div');\n",
              "          docLink.innerHTML = docLinkHtml;\n",
              "          element.appendChild(docLink);\n",
              "        }\n",
              "      </script>\n",
              "    </div>\n",
              "  </div>\n",
              "  "
            ]
          },
          "metadata": {},
          "execution_count": 7
        }
      ]
    },
    {
      "cell_type": "code",
      "source": [
        "data.head(5)"
      ],
      "metadata": {
        "colab": {
          "base_uri": "https://localhost:8080/",
          "height": 317
        },
        "id": "XTD9Nc5EymzK",
        "outputId": "914099cc-d10c-4722-d38c-b3c4fe1223b5"
      },
      "execution_count": 8,
      "outputs": [
        {
          "output_type": "execute_result",
          "data": {
            "text/plain": [
              "   ID gender  age  height(cm)  weight(kg)  waist(cm)  eyesight(left)  \\\n",
              "0   0      F   40         155          60       81.3             1.2   \n",
              "1   1      F   40         160          60       81.0             0.8   \n",
              "2   2      M   55         170          60       80.0             0.8   \n",
              "3   3      M   40         165          70       88.0             1.5   \n",
              "4   4      F   40         155          60       86.0             1.0   \n",
              "\n",
              "   eyesight(right)  hearing(left)  hearing(right)  ...  hemoglobin  \\\n",
              "0              1.0            1.0             1.0  ...        12.9   \n",
              "1              0.6            1.0             1.0  ...        12.7   \n",
              "2              0.8            1.0             1.0  ...        15.8   \n",
              "3              1.5            1.0             1.0  ...        14.7   \n",
              "4              1.0            1.0             1.0  ...        12.5   \n",
              "\n",
              "   Urine protein  serum creatinine   AST   ALT   Gtp  oral  dental caries  \\\n",
              "0            1.0               0.7  18.0  19.0  27.0     Y              0   \n",
              "1            1.0               0.6  22.0  19.0  18.0     Y              0   \n",
              "2            1.0               1.0  21.0  16.0  22.0     Y              0   \n",
              "3            1.0               1.0  19.0  26.0  18.0     Y              0   \n",
              "4            1.0               0.6  16.0  14.0  22.0     Y              0   \n",
              "\n",
              "   tartar  smoking  \n",
              "0       Y        0  \n",
              "1       Y        0  \n",
              "2       N        1  \n",
              "3       Y        0  \n",
              "4       N        0  \n",
              "\n",
              "[5 rows x 27 columns]"
            ],
            "text/html": [
              "\n",
              "  <div id=\"df-a66f5468-4e18-4bcb-b536-05420a24d97c\">\n",
              "    <div class=\"colab-df-container\">\n",
              "      <div>\n",
              "<style scoped>\n",
              "    .dataframe tbody tr th:only-of-type {\n",
              "        vertical-align: middle;\n",
              "    }\n",
              "\n",
              "    .dataframe tbody tr th {\n",
              "        vertical-align: top;\n",
              "    }\n",
              "\n",
              "    .dataframe thead th {\n",
              "        text-align: right;\n",
              "    }\n",
              "</style>\n",
              "<table border=\"1\" class=\"dataframe\">\n",
              "  <thead>\n",
              "    <tr style=\"text-align: right;\">\n",
              "      <th></th>\n",
              "      <th>ID</th>\n",
              "      <th>gender</th>\n",
              "      <th>age</th>\n",
              "      <th>height(cm)</th>\n",
              "      <th>weight(kg)</th>\n",
              "      <th>waist(cm)</th>\n",
              "      <th>eyesight(left)</th>\n",
              "      <th>eyesight(right)</th>\n",
              "      <th>hearing(left)</th>\n",
              "      <th>hearing(right)</th>\n",
              "      <th>...</th>\n",
              "      <th>hemoglobin</th>\n",
              "      <th>Urine protein</th>\n",
              "      <th>serum creatinine</th>\n",
              "      <th>AST</th>\n",
              "      <th>ALT</th>\n",
              "      <th>Gtp</th>\n",
              "      <th>oral</th>\n",
              "      <th>dental caries</th>\n",
              "      <th>tartar</th>\n",
              "      <th>smoking</th>\n",
              "    </tr>\n",
              "  </thead>\n",
              "  <tbody>\n",
              "    <tr>\n",
              "      <th>0</th>\n",
              "      <td>0</td>\n",
              "      <td>F</td>\n",
              "      <td>40</td>\n",
              "      <td>155</td>\n",
              "      <td>60</td>\n",
              "      <td>81.3</td>\n",
              "      <td>1.2</td>\n",
              "      <td>1.0</td>\n",
              "      <td>1.0</td>\n",
              "      <td>1.0</td>\n",
              "      <td>...</td>\n",
              "      <td>12.9</td>\n",
              "      <td>1.0</td>\n",
              "      <td>0.7</td>\n",
              "      <td>18.0</td>\n",
              "      <td>19.0</td>\n",
              "      <td>27.0</td>\n",
              "      <td>Y</td>\n",
              "      <td>0</td>\n",
              "      <td>Y</td>\n",
              "      <td>0</td>\n",
              "    </tr>\n",
              "    <tr>\n",
              "      <th>1</th>\n",
              "      <td>1</td>\n",
              "      <td>F</td>\n",
              "      <td>40</td>\n",
              "      <td>160</td>\n",
              "      <td>60</td>\n",
              "      <td>81.0</td>\n",
              "      <td>0.8</td>\n",
              "      <td>0.6</td>\n",
              "      <td>1.0</td>\n",
              "      <td>1.0</td>\n",
              "      <td>...</td>\n",
              "      <td>12.7</td>\n",
              "      <td>1.0</td>\n",
              "      <td>0.6</td>\n",
              "      <td>22.0</td>\n",
              "      <td>19.0</td>\n",
              "      <td>18.0</td>\n",
              "      <td>Y</td>\n",
              "      <td>0</td>\n",
              "      <td>Y</td>\n",
              "      <td>0</td>\n",
              "    </tr>\n",
              "    <tr>\n",
              "      <th>2</th>\n",
              "      <td>2</td>\n",
              "      <td>M</td>\n",
              "      <td>55</td>\n",
              "      <td>170</td>\n",
              "      <td>60</td>\n",
              "      <td>80.0</td>\n",
              "      <td>0.8</td>\n",
              "      <td>0.8</td>\n",
              "      <td>1.0</td>\n",
              "      <td>1.0</td>\n",
              "      <td>...</td>\n",
              "      <td>15.8</td>\n",
              "      <td>1.0</td>\n",
              "      <td>1.0</td>\n",
              "      <td>21.0</td>\n",
              "      <td>16.0</td>\n",
              "      <td>22.0</td>\n",
              "      <td>Y</td>\n",
              "      <td>0</td>\n",
              "      <td>N</td>\n",
              "      <td>1</td>\n",
              "    </tr>\n",
              "    <tr>\n",
              "      <th>3</th>\n",
              "      <td>3</td>\n",
              "      <td>M</td>\n",
              "      <td>40</td>\n",
              "      <td>165</td>\n",
              "      <td>70</td>\n",
              "      <td>88.0</td>\n",
              "      <td>1.5</td>\n",
              "      <td>1.5</td>\n",
              "      <td>1.0</td>\n",
              "      <td>1.0</td>\n",
              "      <td>...</td>\n",
              "      <td>14.7</td>\n",
              "      <td>1.0</td>\n",
              "      <td>1.0</td>\n",
              "      <td>19.0</td>\n",
              "      <td>26.0</td>\n",
              "      <td>18.0</td>\n",
              "      <td>Y</td>\n",
              "      <td>0</td>\n",
              "      <td>Y</td>\n",
              "      <td>0</td>\n",
              "    </tr>\n",
              "    <tr>\n",
              "      <th>4</th>\n",
              "      <td>4</td>\n",
              "      <td>F</td>\n",
              "      <td>40</td>\n",
              "      <td>155</td>\n",
              "      <td>60</td>\n",
              "      <td>86.0</td>\n",
              "      <td>1.0</td>\n",
              "      <td>1.0</td>\n",
              "      <td>1.0</td>\n",
              "      <td>1.0</td>\n",
              "      <td>...</td>\n",
              "      <td>12.5</td>\n",
              "      <td>1.0</td>\n",
              "      <td>0.6</td>\n",
              "      <td>16.0</td>\n",
              "      <td>14.0</td>\n",
              "      <td>22.0</td>\n",
              "      <td>Y</td>\n",
              "      <td>0</td>\n",
              "      <td>N</td>\n",
              "      <td>0</td>\n",
              "    </tr>\n",
              "  </tbody>\n",
              "</table>\n",
              "<p>5 rows × 27 columns</p>\n",
              "</div>\n",
              "      <button class=\"colab-df-convert\" onclick=\"convertToInteractive('df-a66f5468-4e18-4bcb-b536-05420a24d97c')\"\n",
              "              title=\"Convert this dataframe to an interactive table.\"\n",
              "              style=\"display:none;\">\n",
              "        \n",
              "  <svg xmlns=\"http://www.w3.org/2000/svg\" height=\"24px\"viewBox=\"0 0 24 24\"\n",
              "       width=\"24px\">\n",
              "    <path d=\"M0 0h24v24H0V0z\" fill=\"none\"/>\n",
              "    <path d=\"M18.56 5.44l.94 2.06.94-2.06 2.06-.94-2.06-.94-.94-2.06-.94 2.06-2.06.94zm-11 1L8.5 8.5l.94-2.06 2.06-.94-2.06-.94L8.5 2.5l-.94 2.06-2.06.94zm10 10l.94 2.06.94-2.06 2.06-.94-2.06-.94-.94-2.06-.94 2.06-2.06.94z\"/><path d=\"M17.41 7.96l-1.37-1.37c-.4-.4-.92-.59-1.43-.59-.52 0-1.04.2-1.43.59L10.3 9.45l-7.72 7.72c-.78.78-.78 2.05 0 2.83L4 21.41c.39.39.9.59 1.41.59.51 0 1.02-.2 1.41-.59l7.78-7.78 2.81-2.81c.8-.78.8-2.07 0-2.86zM5.41 20L4 18.59l7.72-7.72 1.47 1.35L5.41 20z\"/>\n",
              "  </svg>\n",
              "      </button>\n",
              "      \n",
              "  <style>\n",
              "    .colab-df-container {\n",
              "      display:flex;\n",
              "      flex-wrap:wrap;\n",
              "      gap: 12px;\n",
              "    }\n",
              "\n",
              "    .colab-df-convert {\n",
              "      background-color: #E8F0FE;\n",
              "      border: none;\n",
              "      border-radius: 50%;\n",
              "      cursor: pointer;\n",
              "      display: none;\n",
              "      fill: #1967D2;\n",
              "      height: 32px;\n",
              "      padding: 0 0 0 0;\n",
              "      width: 32px;\n",
              "    }\n",
              "\n",
              "    .colab-df-convert:hover {\n",
              "      background-color: #E2EBFA;\n",
              "      box-shadow: 0px 1px 2px rgba(60, 64, 67, 0.3), 0px 1px 3px 1px rgba(60, 64, 67, 0.15);\n",
              "      fill: #174EA6;\n",
              "    }\n",
              "\n",
              "    [theme=dark] .colab-df-convert {\n",
              "      background-color: #3B4455;\n",
              "      fill: #D2E3FC;\n",
              "    }\n",
              "\n",
              "    [theme=dark] .colab-df-convert:hover {\n",
              "      background-color: #434B5C;\n",
              "      box-shadow: 0px 1px 3px 1px rgba(0, 0, 0, 0.15);\n",
              "      filter: drop-shadow(0px 1px 2px rgba(0, 0, 0, 0.3));\n",
              "      fill: #FFFFFF;\n",
              "    }\n",
              "  </style>\n",
              "\n",
              "      <script>\n",
              "        const buttonEl =\n",
              "          document.querySelector('#df-a66f5468-4e18-4bcb-b536-05420a24d97c button.colab-df-convert');\n",
              "        buttonEl.style.display =\n",
              "          google.colab.kernel.accessAllowed ? 'block' : 'none';\n",
              "\n",
              "        async function convertToInteractive(key) {\n",
              "          const element = document.querySelector('#df-a66f5468-4e18-4bcb-b536-05420a24d97c');\n",
              "          const dataTable =\n",
              "            await google.colab.kernel.invokeFunction('convertToInteractive',\n",
              "                                                     [key], {});\n",
              "          if (!dataTable) return;\n",
              "\n",
              "          const docLinkHtml = 'Like what you see? Visit the ' +\n",
              "            '<a target=\"_blank\" href=https://colab.research.google.com/notebooks/data_table.ipynb>data table notebook</a>'\n",
              "            + ' to learn more about interactive tables.';\n",
              "          element.innerHTML = '';\n",
              "          dataTable['output_type'] = 'display_data';\n",
              "          await google.colab.output.renderOutput(dataTable, element);\n",
              "          const docLink = document.createElement('div');\n",
              "          docLink.innerHTML = docLinkHtml;\n",
              "          element.appendChild(docLink);\n",
              "        }\n",
              "      </script>\n",
              "    </div>\n",
              "  </div>\n",
              "  "
            ]
          },
          "metadata": {},
          "execution_count": 8
        }
      ]
    },
    {
      "cell_type": "code",
      "source": [
        "data.info()"
      ],
      "metadata": {
        "colab": {
          "base_uri": "https://localhost:8080/"
        },
        "id": "4F7C2jHNs_oR",
        "outputId": "f6755306-bca6-4378-a084-2488426e6a2b"
      },
      "execution_count": 9,
      "outputs": [
        {
          "output_type": "stream",
          "name": "stdout",
          "text": [
            "<class 'pandas.core.frame.DataFrame'>\n",
            "RangeIndex: 55692 entries, 0 to 55691\n",
            "Data columns (total 27 columns):\n",
            " #   Column               Non-Null Count  Dtype  \n",
            "---  ------               --------------  -----  \n",
            " 0   ID                   55692 non-null  int64  \n",
            " 1   gender               55692 non-null  object \n",
            " 2   age                  55692 non-null  int64  \n",
            " 3   height(cm)           55692 non-null  int64  \n",
            " 4   weight(kg)           55692 non-null  int64  \n",
            " 5   waist(cm)            55692 non-null  float64\n",
            " 6   eyesight(left)       55692 non-null  float64\n",
            " 7   eyesight(right)      55692 non-null  float64\n",
            " 8   hearing(left)        55692 non-null  float64\n",
            " 9   hearing(right)       55692 non-null  float64\n",
            " 10  systolic             55692 non-null  float64\n",
            " 11  relaxation           55692 non-null  float64\n",
            " 12  fasting blood sugar  55692 non-null  float64\n",
            " 13  Cholesterol          55692 non-null  float64\n",
            " 14  triglyceride         55692 non-null  float64\n",
            " 15  HDL                  55692 non-null  float64\n",
            " 16  LDL                  55692 non-null  float64\n",
            " 17  hemoglobin           55692 non-null  float64\n",
            " 18  Urine protein        55692 non-null  float64\n",
            " 19  serum creatinine     55692 non-null  float64\n",
            " 20  AST                  55692 non-null  float64\n",
            " 21  ALT                  55692 non-null  float64\n",
            " 22  Gtp                  55692 non-null  float64\n",
            " 23  oral                 55692 non-null  object \n",
            " 24  dental caries        55692 non-null  int64  \n",
            " 25  tartar               55692 non-null  object \n",
            " 26  smoking              55692 non-null  int64  \n",
            "dtypes: float64(18), int64(6), object(3)\n",
            "memory usage: 11.5+ MB\n"
          ]
        }
      ]
    },
    {
      "cell_type": "code",
      "source": [
        "categorical_columns = data.select_dtypes(include=['object']).columns.tolist()\n",
        "print(categorical_columns)\n"
      ],
      "metadata": {
        "colab": {
          "base_uri": "https://localhost:8080/"
        },
        "id": "tYbseP3QhUIy",
        "outputId": "8267d1e5-e470-4e59-84fc-91b571f7debd"
      },
      "execution_count": 10,
      "outputs": [
        {
          "output_type": "stream",
          "name": "stdout",
          "text": [
            "['gender', 'oral', 'tartar']\n"
          ]
        }
      ]
    },
    {
      "cell_type": "code",
      "source": [
        "continuos_columns = data.select_dtypes(include=['int64','float64']).columns.tolist()\n",
        "print(continuos_columns)"
      ],
      "metadata": {
        "colab": {
          "base_uri": "https://localhost:8080/"
        },
        "id": "rjRzuPIJheIH",
        "outputId": "97dc7309-cdd6-4583-a6f3-41bcc3e27cb2"
      },
      "execution_count": 11,
      "outputs": [
        {
          "output_type": "stream",
          "name": "stdout",
          "text": [
            "['ID', 'age', 'height(cm)', 'weight(kg)', 'waist(cm)', 'eyesight(left)', 'eyesight(right)', 'hearing(left)', 'hearing(right)', 'systolic', 'relaxation', 'fasting blood sugar', 'Cholesterol', 'triglyceride', 'HDL', 'LDL', 'hemoglobin', 'Urine protein', 'serum creatinine', 'AST', 'ALT', 'Gtp', 'dental caries', 'smoking']\n"
          ]
        }
      ]
    },
    {
      "cell_type": "markdown",
      "source": [
        "# ***Visualization of Data***"
      ],
      "metadata": {
        "id": "Aq08QIUtCi6I"
      }
    },
    {
      "cell_type": "markdown",
      "source": [
        "***`Categorical columns data visualization`***"
      ],
      "metadata": {
        "id": "DN9pidvbiOlg"
      }
    },
    {
      "cell_type": "code",
      "source": [
        "gender_plt = sbrn.countplot(x='gender',data=data)\n",
        "gender_plt.set_xticklabels(labels=['Female', 'Male'])\n",
        "plt.title(\"Gender Classification\")\n",
        "plt.show()"
      ],
      "metadata": {
        "colab": {
          "base_uri": "https://localhost:8080/",
          "height": 295
        },
        "id": "HyRMa_I93Wtg",
        "outputId": "7d7d2153-ee75-4a64-ef0b-261e5576d1f6"
      },
      "execution_count": 12,
      "outputs": [
        {
          "output_type": "display_data",
          "data": {
            "text/plain": [
              "<Figure size 432x288 with 1 Axes>"
            ],
            "image/png": "[encoded data removed]"
          },
          "metadata": {
            "needs_background": "light"
          }
        }
      ]
    },
    {
      "cell_type": "code",
      "source": [
        "oral_plt = sbrn.countplot(x='oral',data=data)\n",
        "oral_plt.set_xticklabels(labels=['Yes', 'No'])\n",
        "plt.title(\"Oral Examinination Status\")\n",
        "plt.show()"
      ],
      "metadata": {
        "colab": {
          "base_uri": "https://localhost:8080/",
          "height": 295
        },
        "id": "1NxWiMnbiXHZ",
        "outputId": "b18f2459-e1d0-4484-d76b-3c36be26d785"
      },
      "execution_count": 13,
      "outputs": [
        {
          "output_type": "display_data",
          "data": {
            "text/plain": [
              "<Figure size 432x288 with 1 Axes>"
            ],
            "image/png": "[encoded data removed]"
          },
          "metadata": {
            "needs_background": "light"
          }
        }
      ]
    },
    {
      "cell_type": "code",
      "source": [
        "tar_plt = sbrn.countplot(x='tartar',data=data)\n",
        "tar_plt.set_xticklabels(labels=['Yes', 'No'])\n",
        "plt.title(\"Tartar Status\")\n",
        "plt.show()"
      ],
      "metadata": {
        "colab": {
          "base_uri": "https://localhost:8080/",
          "height": 295
        },
        "id": "1hN3oNO-i3eD",
        "outputId": "3803d6c8-d314-400c-b479-1c85734f23c8"
      },
      "execution_count": 14,
      "outputs": [
        {
          "output_type": "display_data",
          "data": {
            "text/plain": [
              "<Figure size 432x288 with 1 Axes>"
            ],
            "image/png": "[encoded data removed]"
          },
          "metadata": {
            "needs_background": "light"
          }
        }
      ]
    },
    {
      "cell_type": "markdown",
      "source": [
        "***`Continuos columns data visualization`***"
      ],
      "metadata": {
        "id": "ohB-AB8bjfwF"
      }
    },
    {
      "cell_type": "code",
      "source": [
        "data = data.rename(columns={'height(cm)': 'height'})\n",
        "data = data.rename(columns={'weight(kg)': 'weight'})\n",
        "data = data.rename(columns={'waist(cm)': 'waist'})\n",
        "data = data.rename(columns={'eyesight(left)': 'l-eyesight'})\n",
        "data = data.rename(columns={'eyesight(right)': 'r-eyesight'})\n",
        "data = data.rename(columns={'hearing(left)': 'l-hearing'})\n",
        "data = data.rename(columns={'hearing(right)': 'r-hearing'})"
      ],
      "metadata": {
        "id": "wjbAKbicj2oD"
      },
      "execution_count": 15,
      "outputs": []
    },
    {
      "cell_type": "code",
      "source": [
        "sbrn.countplot(x='age',data=data)\n",
        "plt.title(\"Age\")\n",
        "plt.show()"
      ],
      "metadata": {
        "colab": {
          "base_uri": "https://localhost:8080/",
          "height": 295
        },
        "id": "gHvDNRREQIwK",
        "outputId": "6c6aa66c-c232-4385-e5a9-2f01bd671295"
      },
      "execution_count": 16,
      "outputs": [
        {
          "output_type": "display_data",
          "data": {
            "text/plain": [
              "<Figure size 432x288 with 1 Axes>"
            ],
            "image/png": "[encoded data removed]"
          },
          "metadata": {
            "needs_background": "light"
          }
        }
      ]
    },
    {
      "cell_type": "code",
      "source": [
        "sbrn.countplot(x='height',data=data)\n",
        "plt.title(\"Height\")\n",
        "plt.show()"
      ],
      "metadata": {
        "colab": {
          "base_uri": "https://localhost:8080/",
          "height": 295
        },
        "id": "IBVFHtIY2TzP",
        "outputId": "950b8b27-292a-44f9-e21b-4307dd4d4584"
      },
      "execution_count": 17,
      "outputs": [
        {
          "output_type": "display_data",
          "data": {
            "text/plain": [
              "<Figure size 432x288 with 1 Axes>"
            ],
            "image/png": "[encoded data removed]"
          },
          "metadata": {
            "needs_background": "light"
          }
        }
      ]
    },
    {
      "cell_type": "code",
      "source": [
        "#Weight \n",
        "sbrn.barplot(x='age',y='weight',data=data)\n",
        "plt.title(\"Weight\")\n",
        "plt.show()"
      ],
      "metadata": {
        "id": "d7SojfS04urs",
        "colab": {
          "base_uri": "https://localhost:8080/",
          "height": 295
        },
        "outputId": "74af8eae-26dd-4eec-fe6d-b379f786a21d"
      },
      "execution_count": 18,
      "outputs": [
        {
          "output_type": "display_data",
          "data": {
            "text/plain": [
              "<Figure size 432x288 with 1 Axes>"
            ],
            "image/png": "[encoded data removed]"
          },
          "metadata": {
            "needs_background": "light"
          }
        }
      ]
    },
    {
      "cell_type": "code",
      "source": [
        "#waist "
      ],
      "metadata": {
        "id": "VsbN6nZF4ybV"
      },
      "execution_count": null,
      "outputs": []
    },
    {
      "cell_type": "code",
      "source": [
        "#eyesight(left)"
      ],
      "metadata": {
        "id": "0fag4D-546E6"
      },
      "execution_count": null,
      "outputs": []
    },
    {
      "cell_type": "code",
      "source": [
        "#eyesight(right)"
      ],
      "metadata": {
        "id": "TijecIw449yu"
      },
      "execution_count": null,
      "outputs": []
    },
    {
      "cell_type": "code",
      "source": [
        "#hearing(left)"
      ],
      "metadata": {
        "id": "QeZ9vJ8n5Bpz"
      },
      "execution_count": null,
      "outputs": []
    },
    {
      "cell_type": "code",
      "source": [
        "#hearing(right)"
      ],
      "metadata": {
        "id": "HV_Tz7DL5CqS"
      },
      "execution_count": null,
      "outputs": []
    },
    {
      "cell_type": "markdown",
      "source": [
        "# ***Analysis of Data***"
      ],
      "metadata": {
        "id": "eCIeUhTPhXSV"
      }
    },
    {
      "cell_type": "markdown",
      "source": [
        "# ***Pre-processing dataset***"
      ],
      "metadata": {
        "id": "GW3Ws2b40uU6"
      }
    },
    {
      "cell_type": "markdown",
      "source": [
        "*Split dataset*"
      ],
      "metadata": {
        "id": "oK4lqEkU2tqT"
      }
    },
    {
      "cell_type": "markdown",
      "source": [
        "# ***Training the Model(SVM)***"
      ],
      "metadata": {
        "id": "_Qehi_GRFMv9"
      }
    }
  ]
}